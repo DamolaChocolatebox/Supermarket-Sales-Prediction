{
 "cells": [
  {
   "cell_type": "markdown",
   "id": "802cc068",
   "metadata": {},
   "source": [
    "# Exploratory Data Analysis and Visualization"
   ]
  },
  {
   "cell_type": "code",
   "execution_count": 2,
   "id": "e058848a",
   "metadata": {},
   "outputs": [],
   "source": [
    "import numpy as np\n",
    "import pandas as pd\n",
    "from matplotlib import pyplot as plt\n",
    "import seaborn as sns"
   ]
  },
  {
   "cell_type": "code",
   "execution_count": 3,
   "id": "e49a4596",
   "metadata": {},
   "outputs": [],
   "source": [
    "from matplotlib import pyplot as plt"
   ]
  },
  {
   "cell_type": "code",
   "execution_count": 8,
   "id": "d1b65c78",
   "metadata": {},
   "outputs": [],
   "source": [
    "df = pd.read_excel(\"Supermarket transactions.xlsx\", sheet_name=1)"
   ]
  },
  {
   "cell_type": "code",
   "execution_count": 7,
   "id": "26d29c8f",
   "metadata": {},
   "outputs": [
    {
     "data": {
      "text/html": [
       "<div>\n",
       "<style scoped>\n",
       "    .dataframe tbody tr th:only-of-type {\n",
       "        vertical-align: middle;\n",
       "    }\n",
       "\n",
       "    .dataframe tbody tr th {\n",
       "        vertical-align: top;\n",
       "    }\n",
       "\n",
       "    .dataframe thead th {\n",
       "        text-align: right;\n",
       "    }\n",
       "</style>\n",
       "<table border=\"1\" class=\"dataframe\">\n",
       "  <thead>\n",
       "    <tr style=\"text-align: right;\">\n",
       "      <th></th>\n",
       "      <th>Transaction</th>\n",
       "      <th>Purchase Date</th>\n",
       "      <th>Customer ID</th>\n",
       "      <th>Gender</th>\n",
       "      <th>Marital Status</th>\n",
       "      <th>Homeowner</th>\n",
       "      <th>Children</th>\n",
       "      <th>Annual Income</th>\n",
       "      <th>City</th>\n",
       "      <th>State or Province</th>\n",
       "      <th>Country</th>\n",
       "      <th>Product Family</th>\n",
       "      <th>Product Department</th>\n",
       "      <th>Product Category</th>\n",
       "      <th>Units Sold</th>\n",
       "      <th>Revenue</th>\n",
       "    </tr>\n",
       "  </thead>\n",
       "  <tbody>\n",
       "    <tr>\n",
       "      <th>0</th>\n",
       "      <td>1</td>\n",
       "      <td>2011-12-18</td>\n",
       "      <td>7223</td>\n",
       "      <td>F</td>\n",
       "      <td>M</td>\n",
       "      <td>Y</td>\n",
       "      <td>2</td>\n",
       "      <td>$30K - $50K</td>\n",
       "      <td>Los Angeles</td>\n",
       "      <td>CA</td>\n",
       "      <td>USA</td>\n",
       "      <td>Food</td>\n",
       "      <td>Snack Foods</td>\n",
       "      <td>Snack Foods</td>\n",
       "      <td>5</td>\n",
       "      <td>27.38</td>\n",
       "    </tr>\n",
       "    <tr>\n",
       "      <th>1</th>\n",
       "      <td>2</td>\n",
       "      <td>2011-12-20</td>\n",
       "      <td>7841</td>\n",
       "      <td>M</td>\n",
       "      <td>M</td>\n",
       "      <td>Y</td>\n",
       "      <td>5</td>\n",
       "      <td>$70K - $90K</td>\n",
       "      <td>Los Angeles</td>\n",
       "      <td>CA</td>\n",
       "      <td>USA</td>\n",
       "      <td>Food</td>\n",
       "      <td>Produce</td>\n",
       "      <td>Vegetables</td>\n",
       "      <td>5</td>\n",
       "      <td>14.90</td>\n",
       "    </tr>\n",
       "    <tr>\n",
       "      <th>2</th>\n",
       "      <td>3</td>\n",
       "      <td>2011-12-21</td>\n",
       "      <td>8374</td>\n",
       "      <td>F</td>\n",
       "      <td>M</td>\n",
       "      <td>N</td>\n",
       "      <td>2</td>\n",
       "      <td>$50K - $70K</td>\n",
       "      <td>Bremerton</td>\n",
       "      <td>WA</td>\n",
       "      <td>USA</td>\n",
       "      <td>Food</td>\n",
       "      <td>Snack Foods</td>\n",
       "      <td>Snack Foods</td>\n",
       "      <td>3</td>\n",
       "      <td>5.52</td>\n",
       "    </tr>\n",
       "    <tr>\n",
       "      <th>3</th>\n",
       "      <td>4</td>\n",
       "      <td>2011-12-21</td>\n",
       "      <td>9619</td>\n",
       "      <td>M</td>\n",
       "      <td>M</td>\n",
       "      <td>Y</td>\n",
       "      <td>3</td>\n",
       "      <td>$30K - $50K</td>\n",
       "      <td>Portland</td>\n",
       "      <td>OR</td>\n",
       "      <td>USA</td>\n",
       "      <td>Food</td>\n",
       "      <td>Snacks</td>\n",
       "      <td>Candy</td>\n",
       "      <td>4</td>\n",
       "      <td>4.44</td>\n",
       "    </tr>\n",
       "    <tr>\n",
       "      <th>4</th>\n",
       "      <td>5</td>\n",
       "      <td>2011-12-22</td>\n",
       "      <td>1900</td>\n",
       "      <td>F</td>\n",
       "      <td>S</td>\n",
       "      <td>Y</td>\n",
       "      <td>3</td>\n",
       "      <td>$130K - $150K</td>\n",
       "      <td>Beverly Hills</td>\n",
       "      <td>CA</td>\n",
       "      <td>USA</td>\n",
       "      <td>Drink</td>\n",
       "      <td>Beverages</td>\n",
       "      <td>Carbonated Beverages</td>\n",
       "      <td>4</td>\n",
       "      <td>14.00</td>\n",
       "    </tr>\n",
       "  </tbody>\n",
       "</table>\n",
       "</div>"
      ],
      "text/plain": [
       "   Transaction Purchase Date  Customer ID Gender Marital Status Homeowner  \\\n",
       "0            1    2011-12-18         7223      F              M         Y   \n",
       "1            2    2011-12-20         7841      M              M         Y   \n",
       "2            3    2011-12-21         8374      F              M         N   \n",
       "3            4    2011-12-21         9619      M              M         Y   \n",
       "4            5    2011-12-22         1900      F              S         Y   \n",
       "\n",
       "   Children  Annual Income           City State or Province Country  \\\n",
       "0         2    $30K - $50K    Los Angeles                CA     USA   \n",
       "1         5    $70K - $90K    Los Angeles                CA     USA   \n",
       "2         2    $50K - $70K      Bremerton                WA     USA   \n",
       "3         3    $30K - $50K       Portland                OR     USA   \n",
       "4         3  $130K - $150K  Beverly Hills                CA     USA   \n",
       "\n",
       "  Product Family Product Department      Product Category  Units Sold  Revenue  \n",
       "0           Food        Snack Foods           Snack Foods           5    27.38  \n",
       "1           Food            Produce            Vegetables           5    14.90  \n",
       "2           Food        Snack Foods           Snack Foods           3     5.52  \n",
       "3           Food             Snacks                 Candy           4     4.44  \n",
       "4          Drink          Beverages  Carbonated Beverages           4    14.00  "
      ]
     },
     "execution_count": 7,
     "metadata": {},
     "output_type": "execute_result"
    }
   ],
   "source": [
    "df.head()"
   ]
  },
  {
   "cell_type": "code",
   "execution_count": 6,
   "id": "dbe7bab7",
   "metadata": {},
   "outputs": [
    {
     "name": "stdout",
     "output_type": "stream",
     "text": [
      "<class 'pandas.core.frame.DataFrame'>\n",
      "RangeIndex: 14059 entries, 0 to 14058\n",
      "Data columns (total 16 columns):\n",
      " #   Column              Non-Null Count  Dtype         \n",
      "---  ------              --------------  -----         \n",
      " 0   Transaction         14059 non-null  int64         \n",
      " 1   Purchase Date       14059 non-null  datetime64[ns]\n",
      " 2   Customer ID         14059 non-null  int64         \n",
      " 3   Gender              14059 non-null  object        \n",
      " 4   Marital Status      14059 non-null  object        \n",
      " 5   Homeowner           14059 non-null  object        \n",
      " 6   Children            14059 non-null  int64         \n",
      " 7   Annual Income       14059 non-null  object        \n",
      " 8   City                14059 non-null  object        \n",
      " 9   State or Province   14059 non-null  object        \n",
      " 10  Country             14059 non-null  object        \n",
      " 11  Product Family      14059 non-null  object        \n",
      " 12  Product Department  14059 non-null  object        \n",
      " 13  Product Category    14059 non-null  object        \n",
      " 14  Units Sold          14059 non-null  int64         \n",
      " 15  Revenue             14059 non-null  float64       \n",
      "dtypes: datetime64[ns](1), float64(1), int64(4), object(10)\n",
      "memory usage: 1.7+ MB\n"
     ]
    }
   ],
   "source": [
    "df.info()"
   ]
  },
  {
   "cell_type": "code",
   "execution_count": 10,
   "id": "bf08d5d2",
   "metadata": {},
   "outputs": [
    {
     "data": {
      "text/html": [
       "<div>\n",
       "<style scoped>\n",
       "    .dataframe tbody tr th:only-of-type {\n",
       "        vertical-align: middle;\n",
       "    }\n",
       "\n",
       "    .dataframe tbody tr th {\n",
       "        vertical-align: top;\n",
       "    }\n",
       "\n",
       "    .dataframe thead th {\n",
       "        text-align: right;\n",
       "    }\n",
       "</style>\n",
       "<table border=\"1\" class=\"dataframe\">\n",
       "  <thead>\n",
       "    <tr style=\"text-align: right;\">\n",
       "      <th></th>\n",
       "      <th>Transaction</th>\n",
       "      <th>Customer ID</th>\n",
       "      <th>Children</th>\n",
       "      <th>Units Sold</th>\n",
       "      <th>Revenue</th>\n",
       "    </tr>\n",
       "  </thead>\n",
       "  <tbody>\n",
       "    <tr>\n",
       "      <th>count</th>\n",
       "      <td>14059.000000</td>\n",
       "      <td>14059.000000</td>\n",
       "      <td>14059.000000</td>\n",
       "      <td>14059.000000</td>\n",
       "      <td>14059.000000</td>\n",
       "    </tr>\n",
       "    <tr>\n",
       "      <th>mean</th>\n",
       "      <td>7030.000000</td>\n",
       "      <td>5116.902127</td>\n",
       "      <td>2.530336</td>\n",
       "      <td>4.080589</td>\n",
       "      <td>13.004512</td>\n",
       "    </tr>\n",
       "    <tr>\n",
       "      <th>std</th>\n",
       "      <td>4058.628052</td>\n",
       "      <td>2920.755202</td>\n",
       "      <td>1.491852</td>\n",
       "      <td>1.174421</td>\n",
       "      <td>8.215543</td>\n",
       "    </tr>\n",
       "    <tr>\n",
       "      <th>min</th>\n",
       "      <td>1.000000</td>\n",
       "      <td>3.000000</td>\n",
       "      <td>0.000000</td>\n",
       "      <td>1.000000</td>\n",
       "      <td>0.530000</td>\n",
       "    </tr>\n",
       "    <tr>\n",
       "      <th>25%</th>\n",
       "      <td>3515.500000</td>\n",
       "      <td>2549.000000</td>\n",
       "      <td>1.000000</td>\n",
       "      <td>3.000000</td>\n",
       "      <td>6.840000</td>\n",
       "    </tr>\n",
       "    <tr>\n",
       "      <th>50%</th>\n",
       "      <td>7030.000000</td>\n",
       "      <td>5060.000000</td>\n",
       "      <td>3.000000</td>\n",
       "      <td>4.000000</td>\n",
       "      <td>11.250000</td>\n",
       "    </tr>\n",
       "    <tr>\n",
       "      <th>75%</th>\n",
       "      <td>10544.500000</td>\n",
       "      <td>7633.000000</td>\n",
       "      <td>4.000000</td>\n",
       "      <td>5.000000</td>\n",
       "      <td>17.370000</td>\n",
       "    </tr>\n",
       "    <tr>\n",
       "      <th>max</th>\n",
       "      <td>14059.000000</td>\n",
       "      <td>10280.000000</td>\n",
       "      <td>5.000000</td>\n",
       "      <td>8.000000</td>\n",
       "      <td>56.700000</td>\n",
       "    </tr>\n",
       "  </tbody>\n",
       "</table>\n",
       "</div>"
      ],
      "text/plain": [
       "        Transaction   Customer ID      Children    Units Sold       Revenue\n",
       "count  14059.000000  14059.000000  14059.000000  14059.000000  14059.000000\n",
       "mean    7030.000000   5116.902127      2.530336      4.080589     13.004512\n",
       "std     4058.628052   2920.755202      1.491852      1.174421      8.215543\n",
       "min        1.000000      3.000000      0.000000      1.000000      0.530000\n",
       "25%     3515.500000   2549.000000      1.000000      3.000000      6.840000\n",
       "50%     7030.000000   5060.000000      3.000000      4.000000     11.250000\n",
       "75%    10544.500000   7633.000000      4.000000      5.000000     17.370000\n",
       "max    14059.000000  10280.000000      5.000000      8.000000     56.700000"
      ]
     },
     "execution_count": 10,
     "metadata": {},
     "output_type": "execute_result"
    }
   ],
   "source": [
    "df.describe()"
   ]
  },
  {
   "cell_type": "code",
   "execution_count": 9,
   "id": "46395f51",
   "metadata": {},
   "outputs": [
    {
     "data": {
      "text/html": [
       "<div>\n",
       "<style scoped>\n",
       "    .dataframe tbody tr th:only-of-type {\n",
       "        vertical-align: middle;\n",
       "    }\n",
       "\n",
       "    .dataframe tbody tr th {\n",
       "        vertical-align: top;\n",
       "    }\n",
       "\n",
       "    .dataframe thead th {\n",
       "        text-align: right;\n",
       "    }\n",
       "</style>\n",
       "<table border=\"1\" class=\"dataframe\">\n",
       "  <thead>\n",
       "    <tr style=\"text-align: right;\">\n",
       "      <th></th>\n",
       "      <th>Transaction</th>\n",
       "      <th>Purchase Date</th>\n",
       "      <th>Customer ID</th>\n",
       "      <th>Gender</th>\n",
       "      <th>Marital Status</th>\n",
       "      <th>Homeowner</th>\n",
       "      <th>Children</th>\n",
       "      <th>Annual Income</th>\n",
       "      <th>City</th>\n",
       "      <th>State or Province</th>\n",
       "      <th>Country</th>\n",
       "      <th>Product Family</th>\n",
       "      <th>Product Department</th>\n",
       "      <th>Product Category</th>\n",
       "      <th>Units Sold</th>\n",
       "      <th>Revenue</th>\n",
       "    </tr>\n",
       "  </thead>\n",
       "  <tbody>\n",
       "    <tr>\n",
       "      <th>14054</th>\n",
       "      <td>14055</td>\n",
       "      <td>2013-12-29</td>\n",
       "      <td>9102</td>\n",
       "      <td>F</td>\n",
       "      <td>M</td>\n",
       "      <td>Y</td>\n",
       "      <td>2</td>\n",
       "      <td>$10K - $30K</td>\n",
       "      <td>Bremerton</td>\n",
       "      <td>WA</td>\n",
       "      <td>USA</td>\n",
       "      <td>Food</td>\n",
       "      <td>Baking Goods</td>\n",
       "      <td>Baking Goods</td>\n",
       "      <td>3</td>\n",
       "      <td>9.64</td>\n",
       "    </tr>\n",
       "    <tr>\n",
       "      <th>14055</th>\n",
       "      <td>14056</td>\n",
       "      <td>2013-12-29</td>\n",
       "      <td>4822</td>\n",
       "      <td>F</td>\n",
       "      <td>M</td>\n",
       "      <td>Y</td>\n",
       "      <td>3</td>\n",
       "      <td>$10K - $30K</td>\n",
       "      <td>Walla Walla</td>\n",
       "      <td>WA</td>\n",
       "      <td>USA</td>\n",
       "      <td>Food</td>\n",
       "      <td>Frozen Foods</td>\n",
       "      <td>Vegetables</td>\n",
       "      <td>3</td>\n",
       "      <td>7.45</td>\n",
       "    </tr>\n",
       "    <tr>\n",
       "      <th>14056</th>\n",
       "      <td>14057</td>\n",
       "      <td>2013-12-31</td>\n",
       "      <td>250</td>\n",
       "      <td>M</td>\n",
       "      <td>S</td>\n",
       "      <td>Y</td>\n",
       "      <td>1</td>\n",
       "      <td>$30K - $50K</td>\n",
       "      <td>Portland</td>\n",
       "      <td>OR</td>\n",
       "      <td>USA</td>\n",
       "      <td>Drink</td>\n",
       "      <td>Beverages</td>\n",
       "      <td>Pure Juice Beverages</td>\n",
       "      <td>4</td>\n",
       "      <td>3.24</td>\n",
       "    </tr>\n",
       "    <tr>\n",
       "      <th>14057</th>\n",
       "      <td>14058</td>\n",
       "      <td>2013-12-31</td>\n",
       "      <td>6153</td>\n",
       "      <td>F</td>\n",
       "      <td>S</td>\n",
       "      <td>N</td>\n",
       "      <td>4</td>\n",
       "      <td>$50K - $70K</td>\n",
       "      <td>Spokane</td>\n",
       "      <td>WA</td>\n",
       "      <td>USA</td>\n",
       "      <td>Drink</td>\n",
       "      <td>Dairy</td>\n",
       "      <td>Dairy</td>\n",
       "      <td>2</td>\n",
       "      <td>4.00</td>\n",
       "    </tr>\n",
       "    <tr>\n",
       "      <th>14058</th>\n",
       "      <td>14059</td>\n",
       "      <td>2013-12-31</td>\n",
       "      <td>3656</td>\n",
       "      <td>M</td>\n",
       "      <td>S</td>\n",
       "      <td>N</td>\n",
       "      <td>3</td>\n",
       "      <td>$50K - $70K</td>\n",
       "      <td>Portland</td>\n",
       "      <td>OR</td>\n",
       "      <td>USA</td>\n",
       "      <td>Non-Consumable</td>\n",
       "      <td>Household</td>\n",
       "      <td>Electrical</td>\n",
       "      <td>5</td>\n",
       "      <td>25.53</td>\n",
       "    </tr>\n",
       "  </tbody>\n",
       "</table>\n",
       "</div>"
      ],
      "text/plain": [
       "       Transaction Purchase Date  Customer ID Gender Marital Status Homeowner  \\\n",
       "14054        14055    2013-12-29         9102      F              M         Y   \n",
       "14055        14056    2013-12-29         4822      F              M         Y   \n",
       "14056        14057    2013-12-31          250      M              S         Y   \n",
       "14057        14058    2013-12-31         6153      F              S         N   \n",
       "14058        14059    2013-12-31         3656      M              S         N   \n",
       "\n",
       "       Children Annual Income         City State or Province Country  \\\n",
       "14054         2   $10K - $30K    Bremerton                WA     USA   \n",
       "14055         3   $10K - $30K  Walla Walla                WA     USA   \n",
       "14056         1   $30K - $50K     Portland                OR     USA   \n",
       "14057         4   $50K - $70K      Spokane                WA     USA   \n",
       "14058         3   $50K - $70K     Portland                OR     USA   \n",
       "\n",
       "       Product Family Product Department      Product Category  Units Sold  \\\n",
       "14054            Food       Baking Goods          Baking Goods           3   \n",
       "14055            Food       Frozen Foods            Vegetables           3   \n",
       "14056           Drink          Beverages  Pure Juice Beverages           4   \n",
       "14057           Drink              Dairy                 Dairy           2   \n",
       "14058  Non-Consumable          Household            Electrical           5   \n",
       "\n",
       "       Revenue  \n",
       "14054     9.64  \n",
       "14055     7.45  \n",
       "14056     3.24  \n",
       "14057     4.00  \n",
       "14058    25.53  "
      ]
     },
     "execution_count": 9,
     "metadata": {},
     "output_type": "execute_result"
    }
   ],
   "source": [
    "df.tail()"
   ]
  },
  {
   "cell_type": "code",
   "execution_count": 13,
   "id": "3c1d82a4",
   "metadata": {},
   "outputs": [
    {
     "data": {
      "text/plain": [
       "(14059, 16)"
      ]
     },
     "execution_count": 13,
     "metadata": {},
     "output_type": "execute_result"
    }
   ],
   "source": [
    "df.shape"
   ]
  },
  {
   "cell_type": "code",
   "execution_count": 10,
   "id": "d4016912",
   "metadata": {},
   "outputs": [
    {
     "data": {
      "text/plain": [
       "Transaction           0\n",
       "Purchase Date         0\n",
       "Customer ID           0\n",
       "Gender                0\n",
       "Marital Status        0\n",
       "Homeowner             0\n",
       "Children              0\n",
       "Annual Income         0\n",
       "City                  0\n",
       "State or Province     0\n",
       "Country               0\n",
       "Product Family        0\n",
       "Product Department    0\n",
       "Product Category      0\n",
       "Units Sold            0\n",
       "Revenue               0\n",
       "dtype: int64"
      ]
     },
     "execution_count": 10,
     "metadata": {},
     "output_type": "execute_result"
    }
   ],
   "source": [
    "df.isnull().sum()"
   ]
  },
  {
   "cell_type": "code",
   "execution_count": 11,
   "id": "b0102aca",
   "metadata": {},
   "outputs": [
    {
     "data": {
      "text/plain": [
       "Index(['Transaction', 'Purchase Date', 'Customer ID', 'Gender',\n",
       "       'Marital Status', 'Homeowner', 'Children', 'Annual Income', 'City',\n",
       "       'State or Province', 'Country', 'Product Family', 'Product Department',\n",
       "       'Product Category', 'Units Sold', 'Revenue'],\n",
       "      dtype='object')"
      ]
     },
     "execution_count": 11,
     "metadata": {},
     "output_type": "execute_result"
    }
   ],
   "source": [
    "df.columns"
   ]
  },
  {
   "cell_type": "code",
   "execution_count": 23,
   "id": "e7b7ced5",
   "metadata": {},
   "outputs": [],
   "source": [
    "df.drop(['Transaction'], axis = 1, inplace = True)"
   ]
  },
  {
   "cell_type": "code",
   "execution_count": 42,
   "id": "a94e1efd",
   "metadata": {},
   "outputs": [],
   "source": [
    "df.drop(['Customer ID'], axis = 1, inplace = True)"
   ]
  },
  {
   "cell_type": "markdown",
   "id": "8232b4f7",
   "metadata": {},
   "source": [
    "# Exploratory Data Analysis"
   ]
  },
  {
   "cell_type": "code",
   "execution_count": 43,
   "id": "d533d6de",
   "metadata": {},
   "outputs": [
    {
     "data": {
      "text/html": [
       "<div>\n",
       "<style scoped>\n",
       "    .dataframe tbody tr th:only-of-type {\n",
       "        vertical-align: middle;\n",
       "    }\n",
       "\n",
       "    .dataframe tbody tr th {\n",
       "        vertical-align: top;\n",
       "    }\n",
       "\n",
       "    .dataframe thead th {\n",
       "        text-align: right;\n",
       "    }\n",
       "</style>\n",
       "<table border=\"1\" class=\"dataframe\">\n",
       "  <thead>\n",
       "    <tr style=\"text-align: right;\">\n",
       "      <th></th>\n",
       "      <th>Purchase Date</th>\n",
       "      <th>Gender</th>\n",
       "      <th>Marital Status</th>\n",
       "      <th>Homeowner</th>\n",
       "      <th>Children</th>\n",
       "      <th>Annual Income</th>\n",
       "      <th>City</th>\n",
       "      <th>State or Province</th>\n",
       "      <th>Country</th>\n",
       "      <th>Product Family</th>\n",
       "      <th>Product Department</th>\n",
       "      <th>Product Category</th>\n",
       "      <th>Units Sold</th>\n",
       "      <th>Revenue</th>\n",
       "    </tr>\n",
       "  </thead>\n",
       "  <tbody>\n",
       "    <tr>\n",
       "      <th>0</th>\n",
       "      <td>2011-12-18</td>\n",
       "      <td>F</td>\n",
       "      <td>M</td>\n",
       "      <td>Y</td>\n",
       "      <td>2</td>\n",
       "      <td>$30K - $50K</td>\n",
       "      <td>Los Angeles</td>\n",
       "      <td>CA</td>\n",
       "      <td>USA</td>\n",
       "      <td>Food</td>\n",
       "      <td>Snack Foods</td>\n",
       "      <td>Snack Foods</td>\n",
       "      <td>5</td>\n",
       "      <td>27.38</td>\n",
       "    </tr>\n",
       "    <tr>\n",
       "      <th>1</th>\n",
       "      <td>2011-12-20</td>\n",
       "      <td>M</td>\n",
       "      <td>M</td>\n",
       "      <td>Y</td>\n",
       "      <td>5</td>\n",
       "      <td>$70K - $90K</td>\n",
       "      <td>Los Angeles</td>\n",
       "      <td>CA</td>\n",
       "      <td>USA</td>\n",
       "      <td>Food</td>\n",
       "      <td>Produce</td>\n",
       "      <td>Vegetables</td>\n",
       "      <td>5</td>\n",
       "      <td>14.90</td>\n",
       "    </tr>\n",
       "    <tr>\n",
       "      <th>2</th>\n",
       "      <td>2011-12-21</td>\n",
       "      <td>F</td>\n",
       "      <td>M</td>\n",
       "      <td>N</td>\n",
       "      <td>2</td>\n",
       "      <td>$50K - $70K</td>\n",
       "      <td>Bremerton</td>\n",
       "      <td>WA</td>\n",
       "      <td>USA</td>\n",
       "      <td>Food</td>\n",
       "      <td>Snack Foods</td>\n",
       "      <td>Snack Foods</td>\n",
       "      <td>3</td>\n",
       "      <td>5.52</td>\n",
       "    </tr>\n",
       "  </tbody>\n",
       "</table>\n",
       "</div>"
      ],
      "text/plain": [
       "  Purchase Date Gender Marital Status Homeowner  Children Annual Income  \\\n",
       "0    2011-12-18      F              M         Y         2   $30K - $50K   \n",
       "1    2011-12-20      M              M         Y         5   $70K - $90K   \n",
       "2    2011-12-21      F              M         N         2   $50K - $70K   \n",
       "\n",
       "          City State or Province Country Product Family Product Department  \\\n",
       "0  Los Angeles                CA     USA           Food        Snack Foods   \n",
       "1  Los Angeles                CA     USA           Food            Produce   \n",
       "2    Bremerton                WA     USA           Food        Snack Foods   \n",
       "\n",
       "  Product Category  Units Sold  Revenue  \n",
       "0      Snack Foods           5    27.38  \n",
       "1       Vegetables           5    14.90  \n",
       "2      Snack Foods           3     5.52  "
      ]
     },
     "execution_count": 43,
     "metadata": {},
     "output_type": "execute_result"
    }
   ],
   "source": [
    "df.head(3)"
   ]
  },
  {
   "cell_type": "code",
   "execution_count": 27,
   "id": "cd73af04",
   "metadata": {},
   "outputs": [],
   "source": [
    "#which city has more customer"
   ]
  },
  {
   "cell_type": "code",
   "execution_count": 44,
   "id": "804d16a5",
   "metadata": {},
   "outputs": [
    {
     "data": {
      "text/plain": [
       "23"
      ]
     },
     "execution_count": 44,
     "metadata": {},
     "output_type": "execute_result"
    }
   ],
   "source": [
    "df['City'].nunique()"
   ]
  },
  {
   "cell_type": "code",
   "execution_count": 46,
   "id": "59ca4607",
   "metadata": {},
   "outputs": [
    {
     "data": {
      "text/plain": [
       "<AxesSubplot:>"
      ]
     },
     "execution_count": 46,
     "metadata": {},
     "output_type": "execute_result"
    },
    {
     "data": {
      "image/png": "[encoded data removed]",
      "text/plain": [
       "<Figure size 432x288 with 1 Axes>"
      ]
     },
     "metadata": {
      "needs_background": "light"
     },
     "output_type": "display_data"
    }
   ],
   "source": [
    "df['City'].value_counts().plot(kind='bar')"
   ]
  },
  {
   "cell_type": "code",
   "execution_count": null,
   "id": "61bf5427",
   "metadata": {},
   "outputs": [],
   "source": [
    "#Which customer has done lots of shopping in the supermarket"
   ]
  },
  {
   "cell_type": "code",
   "execution_count": 56,
   "id": "0461cba0",
   "metadata": {},
   "outputs": [
    {
     "data": {
      "text/plain": [
       "F    7170\n",
       "M    6889\n",
       "Name: Gender, dtype: int64"
      ]
     },
     "execution_count": 56,
     "metadata": {},
     "output_type": "execute_result"
    }
   ],
   "source": [
    "df['Gender'].value_counts()"
   ]
  },
  {
   "cell_type": "code",
   "execution_count": 55,
   "id": "d949eee8",
   "metadata": {},
   "outputs": [
    {
     "data": {
      "text/plain": [
       "<AxesSubplot:>"
      ]
     },
     "execution_count": 55,
     "metadata": {},
     "output_type": "execute_result"
    },
    {
     "data": {
      "image/png": "[encoded data removed]",
      "text/plain": [
       "<Figure size 432x288 with 1 Axes>"
      ]
     },
     "metadata": {
      "needs_background": "light"
     },
     "output_type": "display_data"
    }
   ],
   "source": [
    "df['Gender'].value_counts().plot(kind='bar')"
   ]
  },
  {
   "cell_type": "code",
   "execution_count": null,
   "id": "cc59e41f",
   "metadata": {},
   "outputs": [],
   "source": [
    "# Finding which customers has buy which type of products"
   ]
  },
  {
   "cell_type": "code",
   "execution_count": 12,
   "id": "6824a35d",
   "metadata": {},
   "outputs": [
    {
     "data": {
      "text/html": [
       "<div>\n",
       "<style scoped>\n",
       "    .dataframe tbody tr th:only-of-type {\n",
       "        vertical-align: middle;\n",
       "    }\n",
       "\n",
       "    .dataframe tbody tr th {\n",
       "        vertical-align: top;\n",
       "    }\n",
       "\n",
       "    .dataframe thead th {\n",
       "        text-align: right;\n",
       "    }\n",
       "</style>\n",
       "<table border=\"1\" class=\"dataframe\">\n",
       "  <thead>\n",
       "    <tr style=\"text-align: right;\">\n",
       "      <th></th>\n",
       "      <th>F</th>\n",
       "      <th>M</th>\n",
       "    </tr>\n",
       "  </thead>\n",
       "  <tbody>\n",
       "    <tr>\n",
       "      <th>0</th>\n",
       "      <td>1</td>\n",
       "      <td>0</td>\n",
       "    </tr>\n",
       "    <tr>\n",
       "      <th>1</th>\n",
       "      <td>0</td>\n",
       "      <td>1</td>\n",
       "    </tr>\n",
       "    <tr>\n",
       "      <th>2</th>\n",
       "      <td>1</td>\n",
       "      <td>0</td>\n",
       "    </tr>\n",
       "    <tr>\n",
       "      <th>3</th>\n",
       "      <td>0</td>\n",
       "      <td>1</td>\n",
       "    </tr>\n",
       "    <tr>\n",
       "      <th>4</th>\n",
       "      <td>1</td>\n",
       "      <td>0</td>\n",
       "    </tr>\n",
       "  </tbody>\n",
       "</table>\n",
       "</div>"
      ],
      "text/plain": [
       "   F  M\n",
       "0  1  0\n",
       "1  0  1\n",
       "2  1  0\n",
       "3  0  1\n",
       "4  1  0"
      ]
     },
     "execution_count": 12,
     "metadata": {},
     "output_type": "execute_result"
    }
   ],
   "source": [
    "gender_dummies=pd.get_dummies(df['Gender'])\n",
    "gender_dummies.head()"
   ]
  },
  {
   "cell_type": "code",
   "execution_count": 13,
   "id": "79985b00",
   "metadata": {},
   "outputs": [],
   "source": [
    "df=pd.concat([df,gender_dummies],axis=1)"
   ]
  },
  {
   "cell_type": "code",
   "execution_count": 14,
   "id": "f36d885e",
   "metadata": {},
   "outputs": [
    {
     "data": {
      "text/html": [
       "<div>\n",
       "<style scoped>\n",
       "    .dataframe tbody tr th:only-of-type {\n",
       "        vertical-align: middle;\n",
       "    }\n",
       "\n",
       "    .dataframe tbody tr th {\n",
       "        vertical-align: top;\n",
       "    }\n",
       "\n",
       "    .dataframe thead th {\n",
       "        text-align: right;\n",
       "    }\n",
       "</style>\n",
       "<table border=\"1\" class=\"dataframe\">\n",
       "  <thead>\n",
       "    <tr style=\"text-align: right;\">\n",
       "      <th></th>\n",
       "      <th>Transaction</th>\n",
       "      <th>Purchase Date</th>\n",
       "      <th>Customer ID</th>\n",
       "      <th>Gender</th>\n",
       "      <th>Marital Status</th>\n",
       "      <th>Homeowner</th>\n",
       "      <th>Children</th>\n",
       "      <th>Annual Income</th>\n",
       "      <th>City</th>\n",
       "      <th>State or Province</th>\n",
       "      <th>Country</th>\n",
       "      <th>Product Family</th>\n",
       "      <th>Product Department</th>\n",
       "      <th>Product Category</th>\n",
       "      <th>Units Sold</th>\n",
       "      <th>Revenue</th>\n",
       "      <th>F</th>\n",
       "      <th>M</th>\n",
       "    </tr>\n",
       "  </thead>\n",
       "  <tbody>\n",
       "    <tr>\n",
       "      <th>0</th>\n",
       "      <td>1</td>\n",
       "      <td>2011-12-18</td>\n",
       "      <td>7223</td>\n",
       "      <td>F</td>\n",
       "      <td>M</td>\n",
       "      <td>Y</td>\n",
       "      <td>2</td>\n",
       "      <td>$30K - $50K</td>\n",
       "      <td>Los Angeles</td>\n",
       "      <td>CA</td>\n",
       "      <td>USA</td>\n",
       "      <td>Food</td>\n",
       "      <td>Snack Foods</td>\n",
       "      <td>Snack Foods</td>\n",
       "      <td>5</td>\n",
       "      <td>27.38</td>\n",
       "      <td>1</td>\n",
       "      <td>0</td>\n",
       "    </tr>\n",
       "    <tr>\n",
       "      <th>1</th>\n",
       "      <td>2</td>\n",
       "      <td>2011-12-20</td>\n",
       "      <td>7841</td>\n",
       "      <td>M</td>\n",
       "      <td>M</td>\n",
       "      <td>Y</td>\n",
       "      <td>5</td>\n",
       "      <td>$70K - $90K</td>\n",
       "      <td>Los Angeles</td>\n",
       "      <td>CA</td>\n",
       "      <td>USA</td>\n",
       "      <td>Food</td>\n",
       "      <td>Produce</td>\n",
       "      <td>Vegetables</td>\n",
       "      <td>5</td>\n",
       "      <td>14.90</td>\n",
       "      <td>0</td>\n",
       "      <td>1</td>\n",
       "    </tr>\n",
       "    <tr>\n",
       "      <th>2</th>\n",
       "      <td>3</td>\n",
       "      <td>2011-12-21</td>\n",
       "      <td>8374</td>\n",
       "      <td>F</td>\n",
       "      <td>M</td>\n",
       "      <td>N</td>\n",
       "      <td>2</td>\n",
       "      <td>$50K - $70K</td>\n",
       "      <td>Bremerton</td>\n",
       "      <td>WA</td>\n",
       "      <td>USA</td>\n",
       "      <td>Food</td>\n",
       "      <td>Snack Foods</td>\n",
       "      <td>Snack Foods</td>\n",
       "      <td>3</td>\n",
       "      <td>5.52</td>\n",
       "      <td>1</td>\n",
       "      <td>0</td>\n",
       "    </tr>\n",
       "    <tr>\n",
       "      <th>3</th>\n",
       "      <td>4</td>\n",
       "      <td>2011-12-21</td>\n",
       "      <td>9619</td>\n",
       "      <td>M</td>\n",
       "      <td>M</td>\n",
       "      <td>Y</td>\n",
       "      <td>3</td>\n",
       "      <td>$30K - $50K</td>\n",
       "      <td>Portland</td>\n",
       "      <td>OR</td>\n",
       "      <td>USA</td>\n",
       "      <td>Food</td>\n",
       "      <td>Snacks</td>\n",
       "      <td>Candy</td>\n",
       "      <td>4</td>\n",
       "      <td>4.44</td>\n",
       "      <td>0</td>\n",
       "      <td>1</td>\n",
       "    </tr>\n",
       "    <tr>\n",
       "      <th>4</th>\n",
       "      <td>5</td>\n",
       "      <td>2011-12-22</td>\n",
       "      <td>1900</td>\n",
       "      <td>F</td>\n",
       "      <td>S</td>\n",
       "      <td>Y</td>\n",
       "      <td>3</td>\n",
       "      <td>$130K - $150K</td>\n",
       "      <td>Beverly Hills</td>\n",
       "      <td>CA</td>\n",
       "      <td>USA</td>\n",
       "      <td>Drink</td>\n",
       "      <td>Beverages</td>\n",
       "      <td>Carbonated Beverages</td>\n",
       "      <td>4</td>\n",
       "      <td>14.00</td>\n",
       "      <td>1</td>\n",
       "      <td>0</td>\n",
       "    </tr>\n",
       "  </tbody>\n",
       "</table>\n",
       "</div>"
      ],
      "text/plain": [
       "   Transaction Purchase Date  Customer ID Gender Marital Status Homeowner  \\\n",
       "0            1    2011-12-18         7223      F              M         Y   \n",
       "1            2    2011-12-20         7841      M              M         Y   \n",
       "2            3    2011-12-21         8374      F              M         N   \n",
       "3            4    2011-12-21         9619      M              M         Y   \n",
       "4            5    2011-12-22         1900      F              S         Y   \n",
       "\n",
       "   Children  Annual Income           City State or Province Country  \\\n",
       "0         2    $30K - $50K    Los Angeles                CA     USA   \n",
       "1         5    $70K - $90K    Los Angeles                CA     USA   \n",
       "2         2    $50K - $70K      Bremerton                WA     USA   \n",
       "3         3    $30K - $50K       Portland                OR     USA   \n",
       "4         3  $130K - $150K  Beverly Hills                CA     USA   \n",
       "\n",
       "  Product Family Product Department      Product Category  Units Sold  \\\n",
       "0           Food        Snack Foods           Snack Foods           5   \n",
       "1           Food            Produce            Vegetables           5   \n",
       "2           Food        Snack Foods           Snack Foods           3   \n",
       "3           Food             Snacks                 Candy           4   \n",
       "4          Drink          Beverages  Carbonated Beverages           4   \n",
       "\n",
       "   Revenue  F  M  \n",
       "0    27.38  1  0  \n",
       "1    14.90  0  1  \n",
       "2     5.52  1  0  \n",
       "3     4.44  0  1  \n",
       "4    14.00  1  0  "
      ]
     },
     "execution_count": 14,
     "metadata": {},
     "output_type": "execute_result"
    }
   ],
   "source": [
    "df.head()"
   ]
  },
  {
   "cell_type": "code",
   "execution_count": 42,
   "id": "605434d7",
   "metadata": {},
   "outputs": [],
   "source": [
    "#Created new 2 new columns['AI1' & 'AI2'] from column 'Annual Income'\n",
    "#Then applying lambda function to remove the non integer values from the columns"
   ]
  },
  {
   "cell_type": "code",
   "execution_count": 50,
   "id": "1d34d02f",
   "metadata": {},
   "outputs": [],
   "source": [
    "df['Annual_Income_1'] = df['AI1'].apply(lambda x: x.split('K')[0])"
   ]
  },
  {
   "cell_type": "code",
   "execution_count": 66,
   "id": "06cfc2b8",
   "metadata": {},
   "outputs": [
    {
     "ename": "KeyError",
     "evalue": "'AI2'",
     "output_type": "error",
     "traceback": [
      "\u001b[1;31m---------------------------------------------------------------------------\u001b[0m",
      "\u001b[1;31mKeyError\u001b[0m                                  Traceback (most recent call last)",
      "\u001b[1;32mC:\\Python310\\lib\\site-packages\\pandas\\core\\indexes\\base.py\u001b[0m in \u001b[0;36mget_loc\u001b[1;34m(self, key, method, tolerance)\u001b[0m\n\u001b[0;32m   3360\u001b[0m             \u001b[1;32mtry\u001b[0m\u001b[1;33m:\u001b[0m\u001b[1;33m\u001b[0m\u001b[1;33m\u001b[0m\u001b[0m\n\u001b[1;32m-> 3361\u001b[1;33m                 \u001b[1;32mreturn\u001b[0m \u001b[0mself\u001b[0m\u001b[1;33m.\u001b[0m\u001b[0m_engine\u001b[0m\u001b[1;33m.\u001b[0m\u001b[0mget_loc\u001b[0m\u001b[1;33m(\u001b[0m\u001b[0mcasted_key\u001b[0m\u001b[1;33m)\u001b[0m\u001b[1;33m\u001b[0m\u001b[1;33m\u001b[0m\u001b[0m\n\u001b[0m\u001b[0;32m   3362\u001b[0m             \u001b[1;32mexcept\u001b[0m \u001b[0mKeyError\u001b[0m \u001b[1;32mas\u001b[0m \u001b[0merr\u001b[0m\u001b[1;33m:\u001b[0m\u001b[1;33m\u001b[0m\u001b[1;33m\u001b[0m\u001b[0m\n",
      "\u001b[1;32mC:\\Python310\\lib\\site-packages\\pandas\\_libs\\index.pyx\u001b[0m in \u001b[0;36mpandas._libs.index.IndexEngine.get_loc\u001b[1;34m()\u001b[0m\n",
      "\u001b[1;32mC:\\Python310\\lib\\site-packages\\pandas\\_libs\\index.pyx\u001b[0m in \u001b[0;36mpandas._libs.index.IndexEngine.get_loc\u001b[1;34m()\u001b[0m\n",
      "\u001b[1;32mpandas\\_libs\\hashtable_class_helper.pxi\u001b[0m in \u001b[0;36mpandas._libs.hashtable.PyObjectHashTable.get_item\u001b[1;34m()\u001b[0m\n",
      "\u001b[1;32mpandas\\_libs\\hashtable_class_helper.pxi\u001b[0m in \u001b[0;36mpandas._libs.hashtable.PyObjectHashTable.get_item\u001b[1;34m()\u001b[0m\n",
      "\u001b[1;31mKeyError\u001b[0m: 'AI2'",
      "\nThe above exception was the direct cause of the following exception:\n",
      "\u001b[1;31mKeyError\u001b[0m                                  Traceback (most recent call last)",
      "\u001b[1;32m~\\AppData\\Local\\Temp/ipykernel_3608/175129936.py\u001b[0m in \u001b[0;36m<module>\u001b[1;34m\u001b[0m\n\u001b[1;32m----> 1\u001b[1;33m \u001b[0mdf\u001b[0m\u001b[1;33m[\u001b[0m\u001b[1;34m'Annual_Income_2'\u001b[0m\u001b[1;33m]\u001b[0m \u001b[1;33m=\u001b[0m \u001b[0mdf\u001b[0m\u001b[1;33m[\u001b[0m\u001b[1;34m'AI2'\u001b[0m\u001b[1;33m]\u001b[0m\u001b[1;33m.\u001b[0m\u001b[0mapply\u001b[0m\u001b[1;33m(\u001b[0m\u001b[1;32mlambda\u001b[0m \u001b[0mx\u001b[0m\u001b[1;33m:\u001b[0m \u001b[0mx\u001b[0m\u001b[1;33m.\u001b[0m\u001b[0msplit\u001b[0m\u001b[1;33m(\u001b[0m\u001b[1;34m'K'\u001b[0m\u001b[1;33m)\u001b[0m\u001b[1;33m[\u001b[0m\u001b[1;36m0\u001b[0m\u001b[1;33m]\u001b[0m\u001b[1;33m)\u001b[0m\u001b[1;33m\u001b[0m\u001b[1;33m\u001b[0m\u001b[0m\n\u001b[0m",
      "\u001b[1;32mC:\\Python310\\lib\\site-packages\\pandas\\core\\frame.py\u001b[0m in \u001b[0;36m__getitem__\u001b[1;34m(self, key)\u001b[0m\n\u001b[0;32m   3456\u001b[0m             \u001b[1;32mif\u001b[0m \u001b[0mself\u001b[0m\u001b[1;33m.\u001b[0m\u001b[0mcolumns\u001b[0m\u001b[1;33m.\u001b[0m\u001b[0mnlevels\u001b[0m \u001b[1;33m>\u001b[0m \u001b[1;36m1\u001b[0m\u001b[1;33m:\u001b[0m\u001b[1;33m\u001b[0m\u001b[1;33m\u001b[0m\u001b[0m\n\u001b[0;32m   3457\u001b[0m                 \u001b[1;32mreturn\u001b[0m \u001b[0mself\u001b[0m\u001b[1;33m.\u001b[0m\u001b[0m_getitem_multilevel\u001b[0m\u001b[1;33m(\u001b[0m\u001b[0mkey\u001b[0m\u001b[1;33m)\u001b[0m\u001b[1;33m\u001b[0m\u001b[1;33m\u001b[0m\u001b[0m\n\u001b[1;32m-> 3458\u001b[1;33m             \u001b[0mindexer\u001b[0m \u001b[1;33m=\u001b[0m \u001b[0mself\u001b[0m\u001b[1;33m.\u001b[0m\u001b[0mcolumns\u001b[0m\u001b[1;33m.\u001b[0m\u001b[0mget_loc\u001b[0m\u001b[1;33m(\u001b[0m\u001b[0mkey\u001b[0m\u001b[1;33m)\u001b[0m\u001b[1;33m\u001b[0m\u001b[1;33m\u001b[0m\u001b[0m\n\u001b[0m\u001b[0;32m   3459\u001b[0m             \u001b[1;32mif\u001b[0m \u001b[0mis_integer\u001b[0m\u001b[1;33m(\u001b[0m\u001b[0mindexer\u001b[0m\u001b[1;33m)\u001b[0m\u001b[1;33m:\u001b[0m\u001b[1;33m\u001b[0m\u001b[1;33m\u001b[0m\u001b[0m\n\u001b[0;32m   3460\u001b[0m                 \u001b[0mindexer\u001b[0m \u001b[1;33m=\u001b[0m \u001b[1;33m[\u001b[0m\u001b[0mindexer\u001b[0m\u001b[1;33m]\u001b[0m\u001b[1;33m\u001b[0m\u001b[1;33m\u001b[0m\u001b[0m\n",
      "\u001b[1;32mC:\\Python310\\lib\\site-packages\\pandas\\core\\indexes\\base.py\u001b[0m in \u001b[0;36mget_loc\u001b[1;34m(self, key, method, tolerance)\u001b[0m\n\u001b[0;32m   3361\u001b[0m                 \u001b[1;32mreturn\u001b[0m \u001b[0mself\u001b[0m\u001b[1;33m.\u001b[0m\u001b[0m_engine\u001b[0m\u001b[1;33m.\u001b[0m\u001b[0mget_loc\u001b[0m\u001b[1;33m(\u001b[0m\u001b[0mcasted_key\u001b[0m\u001b[1;33m)\u001b[0m\u001b[1;33m\u001b[0m\u001b[1;33m\u001b[0m\u001b[0m\n\u001b[0;32m   3362\u001b[0m             \u001b[1;32mexcept\u001b[0m \u001b[0mKeyError\u001b[0m \u001b[1;32mas\u001b[0m \u001b[0merr\u001b[0m\u001b[1;33m:\u001b[0m\u001b[1;33m\u001b[0m\u001b[1;33m\u001b[0m\u001b[0m\n\u001b[1;32m-> 3363\u001b[1;33m                 \u001b[1;32mraise\u001b[0m \u001b[0mKeyError\u001b[0m\u001b[1;33m(\u001b[0m\u001b[0mkey\u001b[0m\u001b[1;33m)\u001b[0m \u001b[1;32mfrom\u001b[0m \u001b[0merr\u001b[0m\u001b[1;33m\u001b[0m\u001b[1;33m\u001b[0m\u001b[0m\n\u001b[0m\u001b[0;32m   3364\u001b[0m \u001b[1;33m\u001b[0m\u001b[0m\n\u001b[0;32m   3365\u001b[0m         \u001b[1;32mif\u001b[0m \u001b[0mis_scalar\u001b[0m\u001b[1;33m(\u001b[0m\u001b[0mkey\u001b[0m\u001b[1;33m)\u001b[0m \u001b[1;32mand\u001b[0m \u001b[0misna\u001b[0m\u001b[1;33m(\u001b[0m\u001b[0mkey\u001b[0m\u001b[1;33m)\u001b[0m \u001b[1;32mand\u001b[0m \u001b[1;32mnot\u001b[0m \u001b[0mself\u001b[0m\u001b[1;33m.\u001b[0m\u001b[0mhasnans\u001b[0m\u001b[1;33m:\u001b[0m\u001b[1;33m\u001b[0m\u001b[1;33m\u001b[0m\u001b[0m\n",
      "\u001b[1;31mKeyError\u001b[0m: 'AI2'"
     ]
    }
   ],
   "source": [
    "df['Annual_Income_2'] = df['AI2'].apply(lambda x: x.split('K')[0])"
   ]
  },
  {
   "cell_type": "code",
   "execution_count": null,
   "id": "68f474e0",
   "metadata": {},
   "outputs": [],
   "source": [
    "#Drop columns 'AI1' & 'AI2'"
   ]
  },
  {
   "cell_type": "code",
   "execution_count": 54,
   "id": "0ce80b35",
   "metadata": {},
   "outputs": [],
   "source": [
    "df.drop(['AI1','AI2'], axis=1,inplace=True)"
   ]
  },
  {
   "cell_type": "code",
   "execution_count": null,
   "id": "6fc5b4c7",
   "metadata": {},
   "outputs": [],
   "source": [
    "#Finding the mean of the columns 'Annual_Income_1' & 'Annual_Income_2'"
   ]
  },
  {
   "cell_type": "code",
   "execution_count": 63,
   "id": "7a6508d2",
   "metadata": {},
   "outputs": [],
   "source": [
    "df['Average_Income'] = df[['Annual_Income_1', 'Annual_Income_2']].mean(axis=1)"
   ]
  },
  {
   "cell_type": "code",
   "execution_count": 64,
   "id": "2d2db9c8",
   "metadata": {},
   "outputs": [
    {
     "data": {
      "text/html": [
       "<div>\n",
       "<style scoped>\n",
       "    .dataframe tbody tr th:only-of-type {\n",
       "        vertical-align: middle;\n",
       "    }\n",
       "\n",
       "    .dataframe tbody tr th {\n",
       "        vertical-align: top;\n",
       "    }\n",
       "\n",
       "    .dataframe thead th {\n",
       "        text-align: right;\n",
       "    }\n",
       "</style>\n",
       "<table border=\"1\" class=\"dataframe\">\n",
       "  <thead>\n",
       "    <tr style=\"text-align: right;\">\n",
       "      <th></th>\n",
       "      <th>Transaction</th>\n",
       "      <th>Purchase Date</th>\n",
       "      <th>Customer ID</th>\n",
       "      <th>Gender</th>\n",
       "      <th>Marital Status</th>\n",
       "      <th>Homeowner</th>\n",
       "      <th>Children</th>\n",
       "      <th>Annual Income</th>\n",
       "      <th>City</th>\n",
       "      <th>State or Province</th>\n",
       "      <th>Country</th>\n",
       "      <th>Product Family</th>\n",
       "      <th>Product Department</th>\n",
       "      <th>Product Category</th>\n",
       "      <th>Units Sold</th>\n",
       "      <th>Revenue</th>\n",
       "      <th>Annual_Income_1</th>\n",
       "      <th>Annual_Income_2</th>\n",
       "      <th>Annual_Income_Mean</th>\n",
       "      <th>Average_Income</th>\n",
       "    </tr>\n",
       "  </thead>\n",
       "  <tbody>\n",
       "    <tr>\n",
       "      <th>0</th>\n",
       "      <td>1</td>\n",
       "      <td>2011-12-18</td>\n",
       "      <td>7223</td>\n",
       "      <td>F</td>\n",
       "      <td>M</td>\n",
       "      <td>Y</td>\n",
       "      <td>2</td>\n",
       "      <td>$30K - $50K</td>\n",
       "      <td>Los Angeles</td>\n",
       "      <td>CA</td>\n",
       "      <td>USA</td>\n",
       "      <td>Food</td>\n",
       "      <td>Snack Foods</td>\n",
       "      <td>Snack Foods</td>\n",
       "      <td>5</td>\n",
       "      <td>27.38</td>\n",
       "      <td>30</td>\n",
       "      <td>50</td>\n",
       "      <td>NaN</td>\n",
       "      <td>1525.0</td>\n",
       "    </tr>\n",
       "    <tr>\n",
       "      <th>1</th>\n",
       "      <td>2</td>\n",
       "      <td>2011-12-20</td>\n",
       "      <td>7841</td>\n",
       "      <td>M</td>\n",
       "      <td>M</td>\n",
       "      <td>Y</td>\n",
       "      <td>5</td>\n",
       "      <td>$70K - $90K</td>\n",
       "      <td>Los Angeles</td>\n",
       "      <td>CA</td>\n",
       "      <td>USA</td>\n",
       "      <td>Food</td>\n",
       "      <td>Produce</td>\n",
       "      <td>Vegetables</td>\n",
       "      <td>5</td>\n",
       "      <td>14.90</td>\n",
       "      <td>30</td>\n",
       "      <td>50</td>\n",
       "      <td>NaN</td>\n",
       "      <td>1525.0</td>\n",
       "    </tr>\n",
       "    <tr>\n",
       "      <th>2</th>\n",
       "      <td>3</td>\n",
       "      <td>2011-12-21</td>\n",
       "      <td>8374</td>\n",
       "      <td>F</td>\n",
       "      <td>M</td>\n",
       "      <td>N</td>\n",
       "      <td>2</td>\n",
       "      <td>$50K - $70K</td>\n",
       "      <td>Bremerton</td>\n",
       "      <td>WA</td>\n",
       "      <td>USA</td>\n",
       "      <td>Food</td>\n",
       "      <td>Snack Foods</td>\n",
       "      <td>Snack Foods</td>\n",
       "      <td>3</td>\n",
       "      <td>5.52</td>\n",
       "      <td>30</td>\n",
       "      <td>50</td>\n",
       "      <td>NaN</td>\n",
       "      <td>1525.0</td>\n",
       "    </tr>\n",
       "    <tr>\n",
       "      <th>3</th>\n",
       "      <td>4</td>\n",
       "      <td>2011-12-21</td>\n",
       "      <td>9619</td>\n",
       "      <td>M</td>\n",
       "      <td>M</td>\n",
       "      <td>Y</td>\n",
       "      <td>3</td>\n",
       "      <td>$30K - $50K</td>\n",
       "      <td>Portland</td>\n",
       "      <td>OR</td>\n",
       "      <td>USA</td>\n",
       "      <td>Food</td>\n",
       "      <td>Snacks</td>\n",
       "      <td>Candy</td>\n",
       "      <td>4</td>\n",
       "      <td>4.44</td>\n",
       "      <td>30</td>\n",
       "      <td>50</td>\n",
       "      <td>NaN</td>\n",
       "      <td>1525.0</td>\n",
       "    </tr>\n",
       "    <tr>\n",
       "      <th>4</th>\n",
       "      <td>5</td>\n",
       "      <td>2011-12-22</td>\n",
       "      <td>1900</td>\n",
       "      <td>F</td>\n",
       "      <td>S</td>\n",
       "      <td>Y</td>\n",
       "      <td>3</td>\n",
       "      <td>$130K - $150K</td>\n",
       "      <td>Beverly Hills</td>\n",
       "      <td>CA</td>\n",
       "      <td>USA</td>\n",
       "      <td>Drink</td>\n",
       "      <td>Beverages</td>\n",
       "      <td>Carbonated Beverages</td>\n",
       "      <td>4</td>\n",
       "      <td>14.00</td>\n",
       "      <td>30</td>\n",
       "      <td>50</td>\n",
       "      <td>NaN</td>\n",
       "      <td>1525.0</td>\n",
       "    </tr>\n",
       "  </tbody>\n",
       "</table>\n",
       "</div>"
      ],
      "text/plain": [
       "   Transaction Purchase Date  Customer ID Gender Marital Status Homeowner  \\\n",
       "0            1    2011-12-18         7223      F              M         Y   \n",
       "1            2    2011-12-20         7841      M              M         Y   \n",
       "2            3    2011-12-21         8374      F              M         N   \n",
       "3            4    2011-12-21         9619      M              M         Y   \n",
       "4            5    2011-12-22         1900      F              S         Y   \n",
       "\n",
       "   Children  Annual Income           City State or Province Country  \\\n",
       "0         2    $30K - $50K    Los Angeles                CA     USA   \n",
       "1         5    $70K - $90K    Los Angeles                CA     USA   \n",
       "2         2    $50K - $70K      Bremerton                WA     USA   \n",
       "3         3    $30K - $50K       Portland                OR     USA   \n",
       "4         3  $130K - $150K  Beverly Hills                CA     USA   \n",
       "\n",
       "  Product Family Product Department      Product Category  Units Sold  \\\n",
       "0           Food        Snack Foods           Snack Foods           5   \n",
       "1           Food            Produce            Vegetables           5   \n",
       "2           Food        Snack Foods           Snack Foods           3   \n",
       "3           Food             Snacks                 Candy           4   \n",
       "4          Drink          Beverages  Carbonated Beverages           4   \n",
       "\n",
       "   Revenue Annual_Income_1 Annual_Income_2  Annual_Income_Mean  Average_Income  \n",
       "0    27.38              30              50                 NaN          1525.0  \n",
       "1    14.90              30              50                 NaN          1525.0  \n",
       "2     5.52              30              50                 NaN          1525.0  \n",
       "3     4.44              30              50                 NaN          1525.0  \n",
       "4    14.00              30              50                 NaN          1525.0  "
      ]
     },
     "execution_count": 64,
     "metadata": {},
     "output_type": "execute_result"
    }
   ],
   "source": [
    "df.head()"
   ]
  },
  {
   "cell_type": "code",
   "execution_count": 61,
   "id": "f995048a",
   "metadata": {},
   "outputs": [],
   "source": []
  },
  {
   "cell_type": "code",
   "execution_count": 18,
   "id": "83d9351d",
   "metadata": {},
   "outputs": [
    {
     "data": {
      "text/plain": [
       "array(['Snack Foods', 'Vegetables', 'Candy', 'Carbonated Beverages',\n",
       "       'Side Dishes', 'Breakfast Foods', 'Canned Soup',\n",
       "       'Cleaning Supplies', 'Pain Relievers', 'Baking Goods',\n",
       "       'Canned Tuna', 'Plastic Products', 'Fruit', 'Hygiene', 'Meat',\n",
       "       'Dairy', 'Drinks', 'Magazines', 'Beer and Wine', 'Hardware',\n",
       "       'Paper Products', 'Seafood', 'Electrical', 'Bathroom Products',\n",
       "       'Kitchen Products', 'Bread', 'Specialty', 'Canned Sardines',\n",
       "       'Miscellaneous', 'Pizza', 'Decongestants', 'Starchy Foods',\n",
       "       'Jams and Jellies', 'Frozen Desserts', 'Eggs',\n",
       "       'Pure Juice Beverages', 'Hot Beverages', 'Canned Oysters',\n",
       "       'Packaged Vegetables', 'Frozen Entrees', 'Canned Anchovies',\n",
       "       'Candles', 'Cold Remedies', 'Canned Shrimp', 'Canned Clams'],\n",
       "      dtype=object)"
      ]
     },
     "execution_count": 18,
     "metadata": {},
     "output_type": "execute_result"
    }
   ],
   "source": [
    "df['Product Category'].unique()"
   ]
  },
  {
   "cell_type": "code",
   "execution_count": 27,
   "id": "6feb1618",
   "metadata": {},
   "outputs": [
    {
     "data": {
      "text/plain": [
       "(array([ 0,  1,  2,  3,  4,  5,  6,  7,  8,  9, 10, 11, 12, 13, 14, 15, 16,\n",
       "        17, 18, 19, 20, 21, 22, 23, 24, 25, 26, 27, 28, 29, 30, 31, 32, 33,\n",
       "        34, 35, 36, 37, 38, 39, 40, 41, 42, 43, 44]),\n",
       " [Text(0, 0, 'Snack Foods'),\n",
       "  Text(1, 0, 'Vegetables'),\n",
       "  Text(2, 0, 'Candy'),\n",
       "  Text(3, 0, 'Carbonated Beverages'),\n",
       "  Text(4, 0, 'Side Dishes'),\n",
       "  Text(5, 0, 'Breakfast Foods'),\n",
       "  Text(6, 0, 'Canned Soup'),\n",
       "  Text(7, 0, 'Cleaning Supplies'),\n",
       "  Text(8, 0, 'Pain Relievers'),\n",
       "  Text(9, 0, 'Baking Goods'),\n",
       "  Text(10, 0, 'Canned Tuna'),\n",
       "  Text(11, 0, 'Plastic Products'),\n",
       "  Text(12, 0, 'Fruit'),\n",
       "  Text(13, 0, 'Hygiene'),\n",
       "  Text(14, 0, 'Meat'),\n",
       "  Text(15, 0, 'Dairy'),\n",
       "  Text(16, 0, 'Drinks'),\n",
       "  Text(17, 0, 'Magazines'),\n",
       "  Text(18, 0, 'Beer and Wine'),\n",
       "  Text(19, 0, 'Hardware'),\n",
       "  Text(20, 0, 'Paper Products'),\n",
       "  Text(21, 0, 'Seafood'),\n",
       "  Text(22, 0, 'Electrical'),\n",
       "  Text(23, 0, 'Bathroom Products'),\n",
       "  Text(24, 0, 'Kitchen Products'),\n",
       "  Text(25, 0, 'Bread'),\n",
       "  Text(26, 0, 'Specialty'),\n",
       "  Text(27, 0, 'Canned Sardines'),\n",
       "  Text(28, 0, 'Miscellaneous'),\n",
       "  Text(29, 0, 'Pizza'),\n",
       "  Text(30, 0, 'Decongestants'),\n",
       "  Text(31, 0, 'Starchy Foods'),\n",
       "  Text(32, 0, 'Jams and Jellies'),\n",
       "  Text(33, 0, 'Frozen Desserts'),\n",
       "  Text(34, 0, 'Eggs'),\n",
       "  Text(35, 0, 'Pure Juice Beverages'),\n",
       "  Text(36, 0, 'Hot Beverages'),\n",
       "  Text(37, 0, 'Canned Oysters'),\n",
       "  Text(38, 0, 'Packaged Vegetables'),\n",
       "  Text(39, 0, 'Frozen Entrees'),\n",
       "  Text(40, 0, 'Canned Anchovies'),\n",
       "  Text(41, 0, 'Candles'),\n",
       "  Text(42, 0, 'Cold Remedies'),\n",
       "  Text(43, 0, 'Canned Shrimp'),\n",
       "  Text(44, 0, 'Canned Clams')])"
      ]
     },
     "execution_count": 27,
     "metadata": {},
     "output_type": "execute_result"
    },
    {
     "data": {
      "image/png": "[encoded data removed]",
      "text/plain": [
       "<Figure size 1008x432 with 1 Axes>"
      ]
     },
     "metadata": {
      "needs_background": "light"
     },
     "output_type": "display_data"
    }
   ],
   "source": [
    "plt.figure(figsize=(14,6))\n",
    "sns.barplot(x='Product Category',y='F',data=df)\n",
    "plt.xticks(rotation = 'vertical')"
   ]
  },
  {
   "cell_type": "code",
   "execution_count": null,
   "id": "d985dc72",
   "metadata": {},
   "outputs": [],
   "source": []
  },
  {
   "cell_type": "code",
   "execution_count": 26,
   "id": "4ec6ebbc",
   "metadata": {},
   "outputs": [
    {
     "data": {
      "text/plain": [
       "(array([ 0,  1,  2,  3,  4,  5,  6,  7,  8,  9, 10, 11, 12, 13, 14, 15, 16,\n",
       "        17, 18, 19, 20, 21, 22, 23, 24, 25, 26, 27, 28, 29, 30, 31, 32, 33,\n",
       "        34, 35, 36, 37, 38, 39, 40, 41, 42, 43, 44]),\n",
       " [Text(0, 0, 'Snack Foods'),\n",
       "  Text(1, 0, 'Vegetables'),\n",
       "  Text(2, 0, 'Candy'),\n",
       "  Text(3, 0, 'Carbonated Beverages'),\n",
       "  Text(4, 0, 'Side Dishes'),\n",
       "  Text(5, 0, 'Breakfast Foods'),\n",
       "  Text(6, 0, 'Canned Soup'),\n",
       "  Text(7, 0, 'Cleaning Supplies'),\n",
       "  Text(8, 0, 'Pain Relievers'),\n",
       "  Text(9, 0, 'Baking Goods'),\n",
       "  Text(10, 0, 'Canned Tuna'),\n",
       "  Text(11, 0, 'Plastic Products'),\n",
       "  Text(12, 0, 'Fruit'),\n",
       "  Text(13, 0, 'Hygiene'),\n",
       "  Text(14, 0, 'Meat'),\n",
       "  Text(15, 0, 'Dairy'),\n",
       "  Text(16, 0, 'Drinks'),\n",
       "  Text(17, 0, 'Magazines'),\n",
       "  Text(18, 0, 'Beer and Wine'),\n",
       "  Text(19, 0, 'Hardware'),\n",
       "  Text(20, 0, 'Paper Products'),\n",
       "  Text(21, 0, 'Seafood'),\n",
       "  Text(22, 0, 'Electrical'),\n",
       "  Text(23, 0, 'Bathroom Products'),\n",
       "  Text(24, 0, 'Kitchen Products'),\n",
       "  Text(25, 0, 'Bread'),\n",
       "  Text(26, 0, 'Specialty'),\n",
       "  Text(27, 0, 'Canned Sardines'),\n",
       "  Text(28, 0, 'Miscellaneous'),\n",
       "  Text(29, 0, 'Pizza'),\n",
       "  Text(30, 0, 'Decongestants'),\n",
       "  Text(31, 0, 'Starchy Foods'),\n",
       "  Text(32, 0, 'Jams and Jellies'),\n",
       "  Text(33, 0, 'Frozen Desserts'),\n",
       "  Text(34, 0, 'Eggs'),\n",
       "  Text(35, 0, 'Pure Juice Beverages'),\n",
       "  Text(36, 0, 'Hot Beverages'),\n",
       "  Text(37, 0, 'Canned Oysters'),\n",
       "  Text(38, 0, 'Packaged Vegetables'),\n",
       "  Text(39, 0, 'Frozen Entrees'),\n",
       "  Text(40, 0, 'Canned Anchovies'),\n",
       "  Text(41, 0, 'Candles'),\n",
       "  Text(42, 0, 'Cold Remedies'),\n",
       "  Text(43, 0, 'Canned Shrimp'),\n",
       "  Text(44, 0, 'Canned Clams')])"
      ]
     },
     "execution_count": 26,
     "metadata": {},
     "output_type": "execute_result"
    },
    {
     "data": {
      "image/png": "[encoded data removed]",
      "text/plain": [
       "<Figure size 1008x432 with 1 Axes>"
      ]
     },
     "metadata": {
      "needs_background": "light"
     },
     "output_type": "display_data"
    }
   ],
   "source": [
    "plt.figure(figsize=(14,6))\n",
    "sns.barplot(x='Product Category',y='M',data=df)\n",
    "plt.xticks(rotation = 'vertical')"
   ]
  },
  {
   "cell_type": "code",
   "execution_count": 31,
   "id": "f406472e",
   "metadata": {},
   "outputs": [
    {
     "data": {
      "text/plain": [
       "array(['USA', 'Mexico', 'Canada'], dtype=object)"
      ]
     },
     "execution_count": 31,
     "metadata": {},
     "output_type": "execute_result"
    }
   ],
   "source": [
    "#which country has more customers\n",
    "df['Country'].unique()"
   ]
  },
  {
   "cell_type": "code",
   "execution_count": 32,
   "id": "1315f368",
   "metadata": {},
   "outputs": [
    {
     "data": {
      "text/plain": [
       "USA       9562\n",
       "Mexico    3688\n",
       "Canada     809\n",
       "Name: Country, dtype: int64"
      ]
     },
     "execution_count": 32,
     "metadata": {},
     "output_type": "execute_result"
    }
   ],
   "source": [
    "df['Country'].value_counts()"
   ]
  },
  {
   "cell_type": "code",
   "execution_count": 34,
   "id": "c0ab6200",
   "metadata": {},
   "outputs": [
    {
     "data": {
      "image/png": "[encoded data removed]",
      "text/plain": [
       "<Figure size 432x288 with 1 Axes>"
      ]
     },
     "metadata": {},
     "output_type": "display_data"
    }
   ],
   "source": [
    "plt.pie(df['Country'].value_counts(),labels=df['Country'].value_counts().keys(),autopct='%1.0f%%',radius=1.5)\n",
    "plt.legend()\n",
    "plt.show()"
   ]
  },
  {
   "cell_type": "code",
   "execution_count": 36,
   "id": "db6cf5a5",
   "metadata": {},
   "outputs": [
    {
     "data": {
      "text/plain": [
       "(array([ 0,  1,  2,  3,  4,  5,  6,  7,  8,  9, 10, 11, 12, 13, 14, 15, 16,\n",
       "        17, 18, 19, 20, 21, 22, 23, 24, 25, 26, 27, 28, 29, 30, 31, 32, 33,\n",
       "        34, 35, 36, 37, 38, 39, 40, 41, 42, 43, 44]),\n",
       " [Text(0, 0, 'Snack Foods'),\n",
       "  Text(1, 0, 'Vegetables'),\n",
       "  Text(2, 0, 'Candy'),\n",
       "  Text(3, 0, 'Carbonated Beverages'),\n",
       "  Text(4, 0, 'Side Dishes'),\n",
       "  Text(5, 0, 'Breakfast Foods'),\n",
       "  Text(6, 0, 'Canned Soup'),\n",
       "  Text(7, 0, 'Cleaning Supplies'),\n",
       "  Text(8, 0, 'Pain Relievers'),\n",
       "  Text(9, 0, 'Baking Goods'),\n",
       "  Text(10, 0, 'Canned Tuna'),\n",
       "  Text(11, 0, 'Plastic Products'),\n",
       "  Text(12, 0, 'Fruit'),\n",
       "  Text(13, 0, 'Hygiene'),\n",
       "  Text(14, 0, 'Meat'),\n",
       "  Text(15, 0, 'Dairy'),\n",
       "  Text(16, 0, 'Drinks'),\n",
       "  Text(17, 0, 'Magazines'),\n",
       "  Text(18, 0, 'Beer and Wine'),\n",
       "  Text(19, 0, 'Hardware'),\n",
       "  Text(20, 0, 'Paper Products'),\n",
       "  Text(21, 0, 'Seafood'),\n",
       "  Text(22, 0, 'Electrical'),\n",
       "  Text(23, 0, 'Bathroom Products'),\n",
       "  Text(24, 0, 'Kitchen Products'),\n",
       "  Text(25, 0, 'Bread'),\n",
       "  Text(26, 0, 'Specialty'),\n",
       "  Text(27, 0, 'Canned Sardines'),\n",
       "  Text(28, 0, 'Miscellaneous'),\n",
       "  Text(29, 0, 'Pizza'),\n",
       "  Text(30, 0, 'Decongestants'),\n",
       "  Text(31, 0, 'Starchy Foods'),\n",
       "  Text(32, 0, 'Jams and Jellies'),\n",
       "  Text(33, 0, 'Frozen Desserts'),\n",
       "  Text(34, 0, 'Eggs'),\n",
       "  Text(35, 0, 'Pure Juice Beverages'),\n",
       "  Text(36, 0, 'Hot Beverages'),\n",
       "  Text(37, 0, 'Canned Oysters'),\n",
       "  Text(38, 0, 'Packaged Vegetables'),\n",
       "  Text(39, 0, 'Frozen Entrees'),\n",
       "  Text(40, 0, 'Canned Anchovies'),\n",
       "  Text(41, 0, 'Candles'),\n",
       "  Text(42, 0, 'Cold Remedies'),\n",
       "  Text(43, 0, 'Canned Shrimp'),\n",
       "  Text(44, 0, 'Canned Clams')])"
      ]
     },
     "execution_count": 36,
     "metadata": {},
     "output_type": "execute_result"
    },
    {
     "data": {
      "image/png": "[encoded data removed]",
      "text/plain": [
       "<Figure size 936x432 with 1 Axes>"
      ]
     },
     "metadata": {
      "needs_background": "light"
     },
     "output_type": "display_data"
    }
   ],
   "source": [
    "#**Getting gross income plot for each product line.**\n",
    "#**Which product lines earning the most profits**\n",
    "\n",
    "plt.figure(figsize=(13,6))\n",
    "sns.barplot(x=\"Product Category\",y=\"Revenue\",data=df)\n",
    "plt.xticks(rotation = 'vertical')"
   ]
  },
  {
   "cell_type": "code",
   "execution_count": null,
   "id": "ad8c9b59",
   "metadata": {},
   "outputs": [],
   "source": []
  },
  {
   "cell_type": "code",
   "execution_count": 49,
   "id": "83d6fda3",
   "metadata": {},
   "outputs": [
    {
     "ename": "ConversionError",
     "evalue": "Failed to convert value(s) to axis units: 'Units Sold'",
     "output_type": "error",
     "traceback": [
      "\u001b[1;31m---------------------------------------------------------------------------\u001b[0m",
      "\u001b[1;31mValueError\u001b[0m                                Traceback (most recent call last)",
      "\u001b[1;32mC:\\Python310\\lib\\site-packages\\matplotlib\\axis.py\u001b[0m in \u001b[0;36mconvert_units\u001b[1;34m(self, x)\u001b[0m\n\u001b[0;32m   1505\u001b[0m         \u001b[1;32mtry\u001b[0m\u001b[1;33m:\u001b[0m\u001b[1;33m\u001b[0m\u001b[1;33m\u001b[0m\u001b[0m\n\u001b[1;32m-> 1506\u001b[1;33m             \u001b[0mret\u001b[0m \u001b[1;33m=\u001b[0m \u001b[0mself\u001b[0m\u001b[1;33m.\u001b[0m\u001b[0mconverter\u001b[0m\u001b[1;33m.\u001b[0m\u001b[0mconvert\u001b[0m\u001b[1;33m(\u001b[0m\u001b[0mx\u001b[0m\u001b[1;33m,\u001b[0m \u001b[0mself\u001b[0m\u001b[1;33m.\u001b[0m\u001b[0munits\u001b[0m\u001b[1;33m,\u001b[0m \u001b[0mself\u001b[0m\u001b[1;33m)\u001b[0m\u001b[1;33m\u001b[0m\u001b[1;33m\u001b[0m\u001b[0m\n\u001b[0m\u001b[0;32m   1507\u001b[0m         \u001b[1;32mexcept\u001b[0m \u001b[0mException\u001b[0m \u001b[1;32mas\u001b[0m \u001b[0me\u001b[0m\u001b[1;33m:\u001b[0m\u001b[1;33m\u001b[0m\u001b[1;33m\u001b[0m\u001b[0m\n",
      "\u001b[1;32mC:\\Python310\\lib\\site-packages\\matplotlib\\category.py\u001b[0m in \u001b[0;36mconvert\u001b[1;34m(value, unit, axis)\u001b[0m\n\u001b[0;32m     48\u001b[0m         \u001b[1;32mif\u001b[0m \u001b[0munit\u001b[0m \u001b[1;32mis\u001b[0m \u001b[1;32mNone\u001b[0m\u001b[1;33m:\u001b[0m\u001b[1;33m\u001b[0m\u001b[1;33m\u001b[0m\u001b[0m\n\u001b[1;32m---> 49\u001b[1;33m             raise ValueError(\n\u001b[0m\u001b[0;32m     50\u001b[0m                 \u001b[1;34m'Missing category information for StrCategoryConverter; '\u001b[0m\u001b[1;33m\u001b[0m\u001b[1;33m\u001b[0m\u001b[0m\n",
      "\u001b[1;31mValueError\u001b[0m: Missing category information for StrCategoryConverter; this might be caused by unintendedly mixing categorical and numeric data",
      "\nThe above exception was the direct cause of the following exception:\n",
      "\u001b[1;31mConversionError\u001b[0m                           Traceback (most recent call last)",
      "\u001b[1;32m~\\AppData\\Local\\Temp/ipykernel_1136/2650278674.py\u001b[0m in \u001b[0;36m<module>\u001b[1;34m\u001b[0m\n\u001b[0;32m      3\u001b[0m \u001b[0mplt\u001b[0m\u001b[1;33m.\u001b[0m\u001b[0mfigure\u001b[0m\u001b[1;33m(\u001b[0m\u001b[0mfigsize\u001b[0m\u001b[1;33m=\u001b[0m\u001b[1;33m(\u001b[0m\u001b[1;36m10\u001b[0m\u001b[1;33m,\u001b[0m\u001b[1;36m6\u001b[0m\u001b[1;33m)\u001b[0m\u001b[1;33m)\u001b[0m\u001b[1;33m\u001b[0m\u001b[1;33m\u001b[0m\u001b[0m\n\u001b[0;32m      4\u001b[0m \u001b[0msns\u001b[0m\u001b[1;33m.\u001b[0m\u001b[0mbarplot\u001b[0m\u001b[1;33m(\u001b[0m\u001b[0my\u001b[0m\u001b[1;33m=\u001b[0m\u001b[0mdf\u001b[0m\u001b[1;33m[\u001b[0m\u001b[1;34m'Product Category'\u001b[0m\u001b[1;33m]\u001b[0m\u001b[1;33m,\u001b[0m\u001b[0mx\u001b[0m\u001b[1;33m=\u001b[0m\u001b[0mdf\u001b[0m\u001b[1;33m[\u001b[0m\u001b[1;34m'Units Sold'\u001b[0m\u001b[1;33m]\u001b[0m\u001b[1;33m)\u001b[0m\u001b[1;33m\u001b[0m\u001b[1;33m\u001b[0m\u001b[0m\n\u001b[1;32m----> 5\u001b[1;33m \u001b[0mplt\u001b[0m\u001b[1;33m.\u001b[0m\u001b[0mxticks\u001b[0m\u001b[1;33m(\u001b[0m\u001b[1;34m'Units Sold'\u001b[0m\u001b[1;33m)\u001b[0m\u001b[1;33m\u001b[0m\u001b[1;33m\u001b[0m\u001b[0m\n\u001b[0m\u001b[0;32m      6\u001b[0m \u001b[0mplt\u001b[0m\u001b[1;33m.\u001b[0m\u001b[0mxticks\u001b[0m\u001b[1;33m(\u001b[0m\u001b[0mticks\u001b[0m \u001b[1;33m=\u001b[0m \u001b[0mtickvalues\u001b[0m \u001b[1;33m,\u001b[0m\u001b[0mlabels\u001b[0m \u001b[1;33m=\u001b[0m \u001b[0mlabellist\u001b[0m\u001b[1;33m,\u001b[0m \u001b[0mrotation\u001b[0m \u001b[1;33m=\u001b[0m \u001b[1;34m'vertical'\u001b[0m\u001b[1;33m)\u001b[0m\u001b[1;33m\u001b[0m\u001b[1;33m\u001b[0m\u001b[0m\n\u001b[0;32m      7\u001b[0m \u001b[0mplt\u001b[0m\u001b[1;33m.\u001b[0m\u001b[0mshow\u001b[0m\u001b[1;33m(\u001b[0m\u001b[1;33m)\u001b[0m\u001b[1;33m\u001b[0m\u001b[1;33m\u001b[0m\u001b[0m\n",
      "\u001b[1;32mC:\\Python310\\lib\\site-packages\\matplotlib\\pyplot.py\u001b[0m in \u001b[0;36mxticks\u001b[1;34m(ticks, labels, **kwargs)\u001b[0m\n\u001b[0;32m   1786\u001b[0m                             \"without setting 'ticks'\")\n\u001b[0;32m   1787\u001b[0m     \u001b[1;32melse\u001b[0m\u001b[1;33m:\u001b[0m\u001b[1;33m\u001b[0m\u001b[1;33m\u001b[0m\u001b[0m\n\u001b[1;32m-> 1788\u001b[1;33m         \u001b[0mlocs\u001b[0m \u001b[1;33m=\u001b[0m \u001b[0max\u001b[0m\u001b[1;33m.\u001b[0m\u001b[0mset_xticks\u001b[0m\u001b[1;33m(\u001b[0m\u001b[0mticks\u001b[0m\u001b[1;33m)\u001b[0m\u001b[1;33m\u001b[0m\u001b[1;33m\u001b[0m\u001b[0m\n\u001b[0m\u001b[0;32m   1789\u001b[0m \u001b[1;33m\u001b[0m\u001b[0m\n\u001b[0;32m   1790\u001b[0m     \u001b[1;32mif\u001b[0m \u001b[0mlabels\u001b[0m \u001b[1;32mis\u001b[0m \u001b[1;32mNone\u001b[0m\u001b[1;33m:\u001b[0m\u001b[1;33m\u001b[0m\u001b[1;33m\u001b[0m\u001b[0m\n",
      "\u001b[1;32mC:\\Python310\\lib\\site-packages\\matplotlib\\axes\\_base.py\u001b[0m in \u001b[0;36mwrapper\u001b[1;34m(self, *args, **kwargs)\u001b[0m\n\u001b[0;32m     73\u001b[0m \u001b[1;33m\u001b[0m\u001b[0m\n\u001b[0;32m     74\u001b[0m         \u001b[1;32mdef\u001b[0m \u001b[0mwrapper\u001b[0m\u001b[1;33m(\u001b[0m\u001b[0mself\u001b[0m\u001b[1;33m,\u001b[0m \u001b[1;33m*\u001b[0m\u001b[0margs\u001b[0m\u001b[1;33m,\u001b[0m \u001b[1;33m**\u001b[0m\u001b[0mkwargs\u001b[0m\u001b[1;33m)\u001b[0m\u001b[1;33m:\u001b[0m\u001b[1;33m\u001b[0m\u001b[1;33m\u001b[0m\u001b[0m\n\u001b[1;32m---> 75\u001b[1;33m             \u001b[1;32mreturn\u001b[0m \u001b[0mget_method\u001b[0m\u001b[1;33m(\u001b[0m\u001b[0mself\u001b[0m\u001b[1;33m)\u001b[0m\u001b[1;33m(\u001b[0m\u001b[1;33m*\u001b[0m\u001b[0margs\u001b[0m\u001b[1;33m,\u001b[0m \u001b[1;33m**\u001b[0m\u001b[0mkwargs\u001b[0m\u001b[1;33m)\u001b[0m\u001b[1;33m\u001b[0m\u001b[1;33m\u001b[0m\u001b[0m\n\u001b[0m\u001b[0;32m     76\u001b[0m \u001b[1;33m\u001b[0m\u001b[0m\n\u001b[0;32m     77\u001b[0m         \u001b[0mwrapper\u001b[0m\u001b[1;33m.\u001b[0m\u001b[0m__module__\u001b[0m \u001b[1;33m=\u001b[0m \u001b[0mowner\u001b[0m\u001b[1;33m.\u001b[0m\u001b[0m__module__\u001b[0m\u001b[1;33m\u001b[0m\u001b[1;33m\u001b[0m\u001b[0m\n",
      "\u001b[1;32mC:\\Python310\\lib\\site-packages\\matplotlib\\axis.py\u001b[0m in \u001b[0;36mset_ticks\u001b[1;34m(self, ticks, labels, minor, **kwargs)\u001b[0m\n\u001b[0;32m   1853\u001b[0m         \u001b[0mticks\u001b[0m\u001b[1;33m.\u001b[0m\u001b[1;33m\u001b[0m\u001b[1;33m\u001b[0m\u001b[0m\n\u001b[0;32m   1854\u001b[0m         \"\"\"\n\u001b[1;32m-> 1855\u001b[1;33m         \u001b[0mresult\u001b[0m \u001b[1;33m=\u001b[0m \u001b[0mself\u001b[0m\u001b[1;33m.\u001b[0m\u001b[0m_set_tick_locations\u001b[0m\u001b[1;33m(\u001b[0m\u001b[0mticks\u001b[0m\u001b[1;33m,\u001b[0m \u001b[0mminor\u001b[0m\u001b[1;33m=\u001b[0m\u001b[0mminor\u001b[0m\u001b[1;33m)\u001b[0m\u001b[1;33m\u001b[0m\u001b[1;33m\u001b[0m\u001b[0m\n\u001b[0m\u001b[0;32m   1856\u001b[0m         \u001b[1;32mif\u001b[0m \u001b[0mlabels\u001b[0m \u001b[1;32mis\u001b[0m \u001b[1;32mnot\u001b[0m \u001b[1;32mNone\u001b[0m\u001b[1;33m:\u001b[0m\u001b[1;33m\u001b[0m\u001b[1;33m\u001b[0m\u001b[0m\n\u001b[0;32m   1857\u001b[0m             \u001b[0mself\u001b[0m\u001b[1;33m.\u001b[0m\u001b[0mset_ticklabels\u001b[0m\u001b[1;33m(\u001b[0m\u001b[0mlabels\u001b[0m\u001b[1;33m,\u001b[0m \u001b[0mminor\u001b[0m\u001b[1;33m=\u001b[0m\u001b[0mminor\u001b[0m\u001b[1;33m,\u001b[0m \u001b[1;33m**\u001b[0m\u001b[0mkwargs\u001b[0m\u001b[1;33m)\u001b[0m\u001b[1;33m\u001b[0m\u001b[1;33m\u001b[0m\u001b[0m\n",
      "\u001b[1;32mC:\\Python310\\lib\\site-packages\\matplotlib\\axis.py\u001b[0m in \u001b[0;36m_set_tick_locations\u001b[1;34m(self, ticks, minor)\u001b[0m\n\u001b[0;32m   1802\u001b[0m \u001b[1;33m\u001b[0m\u001b[0m\n\u001b[0;32m   1803\u001b[0m         \u001b[1;31m# XXX if the user changes units, the information will be lost here\u001b[0m\u001b[1;33m\u001b[0m\u001b[1;33m\u001b[0m\u001b[0m\n\u001b[1;32m-> 1804\u001b[1;33m         \u001b[0mticks\u001b[0m \u001b[1;33m=\u001b[0m \u001b[0mself\u001b[0m\u001b[1;33m.\u001b[0m\u001b[0mconvert_units\u001b[0m\u001b[1;33m(\u001b[0m\u001b[0mticks\u001b[0m\u001b[1;33m)\u001b[0m\u001b[1;33m\u001b[0m\u001b[1;33m\u001b[0m\u001b[0m\n\u001b[0m\u001b[0;32m   1805\u001b[0m         \u001b[1;32mfor\u001b[0m \u001b[0mname\u001b[0m\u001b[1;33m,\u001b[0m \u001b[0maxis\u001b[0m \u001b[1;32min\u001b[0m \u001b[0mself\u001b[0m\u001b[1;33m.\u001b[0m\u001b[0maxes\u001b[0m\u001b[1;33m.\u001b[0m\u001b[0m_get_axis_map\u001b[0m\u001b[1;33m(\u001b[0m\u001b[1;33m)\u001b[0m\u001b[1;33m.\u001b[0m\u001b[0mitems\u001b[0m\u001b[1;33m(\u001b[0m\u001b[1;33m)\u001b[0m\u001b[1;33m:\u001b[0m\u001b[1;33m\u001b[0m\u001b[1;33m\u001b[0m\u001b[0m\n\u001b[0;32m   1806\u001b[0m             \u001b[1;32mif\u001b[0m \u001b[0mself\u001b[0m \u001b[1;32mis\u001b[0m \u001b[0maxis\u001b[0m\u001b[1;33m:\u001b[0m\u001b[1;33m\u001b[0m\u001b[1;33m\u001b[0m\u001b[0m\n",
      "\u001b[1;32mC:\\Python310\\lib\\site-packages\\matplotlib\\axis.py\u001b[0m in \u001b[0;36mconvert_units\u001b[1;34m(self, x)\u001b[0m\n\u001b[0;32m   1506\u001b[0m             \u001b[0mret\u001b[0m \u001b[1;33m=\u001b[0m \u001b[0mself\u001b[0m\u001b[1;33m.\u001b[0m\u001b[0mconverter\u001b[0m\u001b[1;33m.\u001b[0m\u001b[0mconvert\u001b[0m\u001b[1;33m(\u001b[0m\u001b[0mx\u001b[0m\u001b[1;33m,\u001b[0m \u001b[0mself\u001b[0m\u001b[1;33m.\u001b[0m\u001b[0munits\u001b[0m\u001b[1;33m,\u001b[0m \u001b[0mself\u001b[0m\u001b[1;33m)\u001b[0m\u001b[1;33m\u001b[0m\u001b[1;33m\u001b[0m\u001b[0m\n\u001b[0;32m   1507\u001b[0m         \u001b[1;32mexcept\u001b[0m \u001b[0mException\u001b[0m \u001b[1;32mas\u001b[0m \u001b[0me\u001b[0m\u001b[1;33m:\u001b[0m\u001b[1;33m\u001b[0m\u001b[1;33m\u001b[0m\u001b[0m\n\u001b[1;32m-> 1508\u001b[1;33m             raise munits.ConversionError('Failed to convert value(s) to axis '\n\u001b[0m\u001b[0;32m   1509\u001b[0m                                          f'units: {x!r}') from e\n\u001b[0;32m   1510\u001b[0m         \u001b[1;32mreturn\u001b[0m \u001b[0mret\u001b[0m\u001b[1;33m\u001b[0m\u001b[1;33m\u001b[0m\u001b[0m\n",
      "\u001b[1;31mConversionError\u001b[0m: Failed to convert value(s) to axis units: 'Units Sold'"
     ]
    },
    {
     "data": {
      "image/png": "[encoded data removed]",
      "text/plain": [
       "<Figure size 720x432 with 1 Axes>"
      ]
     },
     "metadata": {
      "needs_background": "light"
     },
     "output_type": "display_data"
    }
   ],
   "source": [
    "#**Getting units sold plot for each product category.**\n",
    "#**Which product category has the most products sold?**\n",
    "plt.figure(figsize=(10,6))\n",
    "sns.barplot(y=df['Product Category'],x=df['Units Sold'])\n",
    "plt.xticks('Units Sold')\n",
    "plt.xticks(ticks = tickvalues ,labels = labellist, rotation = 'vertical')\n",
    "plt.show()"
   ]
  },
  {
   "cell_type": "code",
   "execution_count": null,
   "id": "ff2d8ca2",
   "metadata": {},
   "outputs": [],
   "source": []
  },
  {
   "cell_type": "code",
   "execution_count": 43,
   "id": "6332726a",
   "metadata": {},
   "outputs": [],
   "source": [
    "sales_df = df['Units Sold'].value_counts()"
   ]
  },
  {
   "cell_type": "code",
   "execution_count": 47,
   "id": "031a0db0",
   "metadata": {},
   "outputs": [],
   "source": [
    "units_sold_df = pd.DataFrame(df['Units Sold'].value_counts())"
   ]
  },
  {
   "cell_type": "code",
   "execution_count": 48,
   "id": "b77f188c",
   "metadata": {},
   "outputs": [
    {
     "data": {
      "text/html": [
       "<div>\n",
       "<style scoped>\n",
       "    .dataframe tbody tr th:only-of-type {\n",
       "        vertical-align: middle;\n",
       "    }\n",
       "\n",
       "    .dataframe tbody tr th {\n",
       "        vertical-align: top;\n",
       "    }\n",
       "\n",
       "    .dataframe thead th {\n",
       "        text-align: right;\n",
       "    }\n",
       "</style>\n",
       "<table border=\"1\" class=\"dataframe\">\n",
       "  <thead>\n",
       "    <tr style=\"text-align: right;\">\n",
       "      <th></th>\n",
       "      <th>Units Sold</th>\n",
       "    </tr>\n",
       "  </thead>\n",
       "  <tbody>\n",
       "    <tr>\n",
       "      <th>4</th>\n",
       "      <td>4379</td>\n",
       "    </tr>\n",
       "    <tr>\n",
       "      <th>5</th>\n",
       "      <td>3562</td>\n",
       "    </tr>\n",
       "    <tr>\n",
       "      <th>3</th>\n",
       "      <td>3289</td>\n",
       "    </tr>\n",
       "    <tr>\n",
       "      <th>6</th>\n",
       "      <td>1439</td>\n",
       "    </tr>\n",
       "    <tr>\n",
       "      <th>2</th>\n",
       "      <td>1130</td>\n",
       "    </tr>\n",
       "    <tr>\n",
       "      <th>7</th>\n",
       "      <td>168</td>\n",
       "    </tr>\n",
       "    <tr>\n",
       "      <th>1</th>\n",
       "      <td>90</td>\n",
       "    </tr>\n",
       "    <tr>\n",
       "      <th>8</th>\n",
       "      <td>2</td>\n",
       "    </tr>\n",
       "  </tbody>\n",
       "</table>\n",
       "</div>"
      ],
      "text/plain": [
       "   Units Sold\n",
       "4        4379\n",
       "5        3562\n",
       "3        3289\n",
       "6        1439\n",
       "2        1130\n",
       "7         168\n",
       "1          90\n",
       "8           2"
      ]
     },
     "execution_count": 48,
     "metadata": {},
     "output_type": "execute_result"
    }
   ],
   "source": [
    "units_sold_df"
   ]
  },
  {
   "cell_type": "code",
   "execution_count": 50,
   "id": "03f56cf4",
   "metadata": {},
   "outputs": [
    {
     "data": {
      "text/plain": [
       "<AxesSubplot:ylabel='Units Sold'>"
      ]
     },
     "execution_count": 50,
     "metadata": {},
     "output_type": "execute_result"
    },
    {
     "data": {
      "image/png": "[encoded data removed]",
      "text/plain": [
       "<Figure size 720x432 with 1 Axes>"
      ]
     },
     "metadata": {
      "needs_background": "light"
     },
     "output_type": "display_data"
    }
   ],
   "source": [
    "plt.figure(figsize=(10,6))\n",
    "sns.barplot(x=sales_df.index,y=units_sold_df['Units Sold'],palette='inferno')"
   ]
  },
  {
   "cell_type": "markdown",
   "id": "f69ae2ee",
   "metadata": {},
   "source": [
    "* 4 Quantities are sold most"
   ]
  }
 ],
 "metadata": {
  "kernelspec": {
   "display_name": "Python 3 (ipykernel)",
   "language": "python",
   "name": "python3"
  },
  "language_info": {
   "codemirror_mode": {
    "name": "ipython",
    "version": 3
   },
   "file_extension": ".py",
   "mimetype": "text/x-python",
   "name": "python",
   "nbconvert_exporter": "python",
   "pygments_lexer": "ipython3",
   "version": "3.10.0"
  }
 },
 "nbformat": 4,
 "nbformat_minor": 5
}
